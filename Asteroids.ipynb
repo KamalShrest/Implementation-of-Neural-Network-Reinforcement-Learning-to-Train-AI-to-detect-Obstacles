{
 "cells": [
  {
   "cell_type": "markdown",
   "metadata": {},
   "source": [
    "## Asteroids"
   ]
  },
  {
   "cell_type": "code",
   "execution_count": 10,
   "metadata": {},
   "outputs": [],
   "source": [
    "import random"
   ]
  },
  {
   "cell_type": "code",
   "execution_count": 11,
   "metadata": {},
   "outputs": [],
   "source": [
    "Halfwidth=200\n",
    "R=15\n",
    "asteroids=[]\n",
    "N=6\n",
    "Height=400"
   ]
  },
  {
   "cell_type": "code",
   "execution_count": 20,
   "metadata": {},
   "outputs": [],
   "source": [
    "asteroids=[]\n",
    "for i in range(N):         # initialize the falling objects' coordinates\n",
    "    t = random.random()\n",
    "    if t < 0.5:\n",
    "        x = (-1)*(Halfwidth + R)/2 - t*(Halfwidth-R)\n",
    "    else:\n",
    "        x = (Halfwidth + R)/2 + (t-0.5)*(Halfwidth-R)\n",
    "    asteroids.append([x,2*Height/3+(i+1)*Height/(3*N)])\n",
    "   \n"
   ]
  },
  {
   "cell_type": "code",
   "execution_count": 21,
   "metadata": {},
   "outputs": [
    {
     "data": {
      "text/plain": [
       "[[-162.04761815957104, 288.8888888888889],\n",
       " [146.65873646579152, 311.11111111111114],\n",
       " [181.26245686027755, 333.33333333333337],\n",
       " [-142.23967832345633, 355.55555555555554],\n",
       " [-135.6598728518589, 377.7777777777778],\n",
       " [-124.23564272135559, 400.0]]"
      ]
     },
     "execution_count": 21,
     "metadata": {},
     "output_type": "execute_result"
    }
   ],
   "source": [
    "asteroids"
   ]
  },
  {
   "cell_type": "code",
   "execution_count": null,
   "metadata": {},
   "outputs": [],
   "source": []
  },
  {
   "cell_type": "code",
   "execution_count": null,
   "metadata": {},
   "outputs": [],
   "source": []
  },
  {
   "cell_type": "code",
   "execution_count": null,
   "metadata": {},
   "outputs": [],
   "source": []
  },
  {
   "cell_type": "code",
   "execution_count": null,
   "metadata": {},
   "outputs": [],
   "source": []
  }
 ],
 "metadata": {
  "kernelspec": {
   "display_name": "Python 3",
   "language": "python",
   "name": "python3"
  },
  "language_info": {
   "codemirror_mode": {
    "name": "ipython",
    "version": 3
   },
   "file_extension": ".py",
   "mimetype": "text/x-python",
   "name": "python",
   "nbconvert_exporter": "python",
   "pygments_lexer": "ipython3",
   "version": "3.7.6"
  }
 },
 "nbformat": 4,
 "nbformat_minor": 4
}
